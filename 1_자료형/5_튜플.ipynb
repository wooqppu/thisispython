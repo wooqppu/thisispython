{
 "cells": [
  {
   "cell_type": "code",
   "execution_count": null,
   "metadata": {},
   "outputs": [],
   "source": [
    "# 튜플\n",
    "# 리스트와 비슷하지만, 리스트는 [], 튜플은 ()를 사용\n",
    "# 단지 1개의 요소만 가질 때는 요소 뒤에 콤마(,)를 반드시 붙여야 함\n",
    "# 괄호( )를 생략해도 된다\n",
    "# 튜플과 리스트의 가장 큰 차이는 요솟값을 변화시킬 수 있는가 여부\n",
    "# 리스트의 요솟값은 변화가 가능하고 튜플의 요솟값은 변화가 불가능\n",
    "# 요솟값이 항상 변하지 않기를 바란다면 튜플 사용"
   ]
  },
  {
   "cell_type": "code",
   "execution_count": 1,
   "metadata": {},
   "outputs": [
    {
     "data": {
      "text/plain": [
       "(1, 2, 3)"
      ]
     },
     "execution_count": 1,
     "metadata": {},
     "output_type": "execute_result"
    }
   ],
   "source": [
    "# 괄호 생략하면 알아서 ()생성해서 입력값 나옴 \n",
    " \n",
    "t1=()\n",
    "t2=(1,)\n",
    "t3=(1,2,3)\n",
    "t4=1,2,3\n",
    "t5=('a','b',('ab','cd'))\n",
    "\n",
    "t4"
   ]
  },
  {
   "cell_type": "code",
   "execution_count": 2,
   "metadata": {},
   "outputs": [
    {
     "data": {
      "text/plain": [
       "1"
      ]
     },
     "execution_count": 2,
     "metadata": {},
     "output_type": "execute_result"
    }
   ],
   "source": [
    "# del t4[0] 입력시 형태 오류가 나면서 삭제 불가능\n",
    "# t4[0] = 3 이라고 바꾸려고 해도 형태 오류 발생\n",
    "# 해당 위치에 있는 인덱스의 값을 가지고 오는건 가능 \n",
    "\n",
    "t4[0]"
   ]
  },
  {
   "cell_type": "code",
   "execution_count": 3,
   "metadata": {},
   "outputs": [
    {
     "data": {
      "text/plain": [
       "(1, 2)"
      ]
     },
     "execution_count": 3,
     "metadata": {},
     "output_type": "execute_result"
    }
   ],
   "source": [
    "# 문자열을 가지고 오는 것도 가능 \n",
    "t4[0:2]"
   ]
  },
  {
   "cell_type": "code",
   "execution_count": 5,
   "metadata": {},
   "outputs": [
    {
     "data": {
      "text/plain": [
       "(1, 2, 3, 'a', 'b', ('ab', 'cd'))"
      ]
     },
     "execution_count": 5,
     "metadata": {},
     "output_type": "execute_result"
    }
   ],
   "source": [
    "r = t4+t5\n",
    "r"
   ]
  },
  {
   "cell_type": "code",
   "execution_count": 7,
   "metadata": {},
   "outputs": [
    {
     "data": {
      "text/plain": [
       "6"
      ]
     },
     "execution_count": 7,
     "metadata": {},
     "output_type": "execute_result"
    }
   ],
   "source": [
    "# 인덱스의 갯수로 튜플의 길이를 나타냄 \n",
    "len(r)"
   ]
  },
  {
   "cell_type": "code",
   "execution_count": 8,
   "metadata": {},
   "outputs": [
    {
     "name": "stdout",
     "output_type": "stream",
     "text": [
      "고객 명단 :  ('김그림', 23, '울산시 남구')\n"
     ]
    }
   ],
   "source": [
    "# 요솟값 변화를 원치않을 때 튜플 사용 \n",
    "# 튜플은 요솟값 변경 불가능으로 내장함수가 없음\n",
    "\n",
    "member1 = ('김그림', 23, '울산시 남구')\n",
    "print(\"고객 명단 : \", member1)"
   ]
  }
 ],
 "metadata": {
  "kernelspec": {
   "display_name": "Python 3",
   "language": "python",
   "name": "python3"
  },
  "language_info": {
   "codemirror_mode": {
    "name": "ipython",
    "version": 3
   },
   "file_extension": ".py",
   "mimetype": "text/x-python",
   "name": "python",
   "nbconvert_exporter": "python",
   "pygments_lexer": "ipython3",
   "version": "3.11.2"
  },
  "orig_nbformat": 4
 },
 "nbformat": 4,
 "nbformat_minor": 2
}
