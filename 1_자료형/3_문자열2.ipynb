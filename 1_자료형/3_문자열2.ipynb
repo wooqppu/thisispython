{
 "cells": [
  {
   "cell_type": "code",
   "execution_count": 1,
   "metadata": {},
   "outputs": [
    {
     "data": {
      "text/plain": [
       "'e'"
      ]
     },
     "execution_count": 1,
     "metadata": {},
     "output_type": "execute_result"
    }
   ],
   "source": [
    "# 주피터컴퓨터 활용\n",
    "str = \"Life is too short, You need Python\"\n",
    "str[3]"
   ]
  },
  {
   "cell_type": "code",
   "execution_count": 2,
   "metadata": {},
   "outputs": [
    {
     "data": {
      "text/plain": [
       "'s'"
      ]
     },
     "execution_count": 2,
     "metadata": {},
     "output_type": "execute_result"
    }
   ],
   "source": [
    "str[12]"
   ]
  },
  {
   "cell_type": "code",
   "execution_count": 3,
   "metadata": {},
   "outputs": [
    {
     "data": {
      "text/plain": [
       "'n'"
      ]
     },
     "execution_count": 3,
     "metadata": {},
     "output_type": "execute_result"
    }
   ],
   "source": [
    "# -1은 제일 마지막 글자를 출력함\n",
    "str[-1]"
   ]
  },
  {
   "cell_type": "code",
   "execution_count": 4,
   "metadata": {},
   "outputs": [
    {
     "data": {
      "text/plain": [
       "'Life'"
      ]
     },
     "execution_count": 4,
     "metadata": {},
     "output_type": "execute_result"
    }
   ],
   "source": [
    "# 문자열 슬라이싱 : 문자열 일부를 잘라내서 출력 \n",
    "# Life is too short, You need Python\n",
    "# [0:4] -> 0 이상 4 미만\n",
    "\n",
    "str[0:4]"
   ]
  },
  {
   "cell_type": "code",
   "execution_count": 5,
   "metadata": {},
   "outputs": [
    {
     "data": {
      "text/plain": [
       "', You need Python'"
      ]
     },
     "execution_count": 5,
     "metadata": {},
     "output_type": "execute_result"
    }
   ],
   "source": [
    "# a[시작 번호:끝 번호]에서 끝 번호 생략하면 문자열의 시작 번호부터 끝까지\n",
    "\n",
    "str[17:]"
   ]
  },
  {
   "cell_type": "code",
   "execution_count": 6,
   "metadata": {},
   "outputs": [
    {
     "data": {
      "text/plain": [
       "'Life is too short, Y'"
      ]
     },
     "execution_count": 6,
     "metadata": {},
     "output_type": "execute_result"
    }
   ],
   "source": [
    "# a[시작 번호:끝 번호]에서 시작 번호 생략하면 문자열의 처음부터 끝 번호까지\n",
    "\n",
    "str[:20]"
   ]
  },
  {
   "cell_type": "code",
   "execution_count": 10,
   "metadata": {},
   "outputs": [
    {
     "data": {
      "text/plain": [
       "'20230309'"
      ]
     },
     "execution_count": 10,
     "metadata": {},
     "output_type": "execute_result"
    }
   ],
   "source": [
    "# 0부터 숫자 세고 갯수 넣기 -> 0~7 : 8개\n",
    "\n",
    "f=\"20230309_193230753\"\n",
    "day=f[:8]\n",
    "day"
   ]
  },
  {
   "cell_type": "code",
   "execution_count": 9,
   "metadata": {},
   "outputs": [
    {
     "data": {
      "text/plain": [
       "'193230753'"
      ]
     },
     "execution_count": 9,
     "metadata": {},
     "output_type": "execute_result"
    }
   ],
   "source": [
    "hour=f[9:]\n",
    "hour"
   ]
  },
  {
   "cell_type": "code",
   "execution_count": 12,
   "metadata": {},
   "outputs": [
    {
     "data": {
      "text/plain": [
       "'abc****'"
      ]
     },
     "execution_count": 12,
     "metadata": {},
     "output_type": "execute_result"
    }
   ],
   "source": [
    "# id를 abc****로 출력하고자 함\n",
    "\n",
    "id=\"abc1234\"\n",
    "id[:3]+\"****\""
   ]
  },
  {
   "cell_type": "code",
   "execution_count": 17,
   "metadata": {},
   "outputs": [
    {
     "data": {
      "text/plain": [
       "'I eat 10 oranges'"
      ]
     },
     "execution_count": 17,
     "metadata": {},
     "output_type": "execute_result"
    }
   ],
   "source": [
    "# I eat 3 apples을 출력한다면(문자열 포매팅)\n",
    "# %s는 문자열, %d는 정수\n",
    "\n",
    "\"I eat %d apples\"%3\n",
    "\n",
    "\"I eat %d %s\"%(10, \"oranges\")\n"
   ]
  },
  {
   "cell_type": "code",
   "execution_count": 22,
   "metadata": {},
   "outputs": [
    {
     "data": {
      "text/plain": [
       "'I eat 10 apples'"
      ]
     },
     "execution_count": 22,
     "metadata": {},
     "output_type": "execute_result"
    }
   ],
   "source": [
    "num = 10\n",
    "fruit = \"apples\"\n",
    "\"I eat %d %s\"%(num, fruit)\n"
   ]
  },
  {
   "cell_type": "code",
   "execution_count": 26,
   "metadata": {},
   "outputs": [
    {
     "data": {
      "text/plain": [
       "'I eat 1 oranges   '"
      ]
     },
     "execution_count": 26,
     "metadata": {},
     "output_type": "execute_result"
    }
   ],
   "source": [
    "# 포맷코드로 정렬과 공백\n",
    "# %10s는 전체 길이가 10개인 문자열에 대입값 오른쪽으로 정렬, 그 앞의 나머지는 공백\n",
    "# 반대쪽인 왼쪽 정렬은 %-10s\n",
    "num=1\n",
    "\"I eat %d %-10s\" % (num, \"oranges\")\n"
   ]
  },
  {
   "cell_type": "code",
   "execution_count": 31,
   "metadata": {},
   "outputs": [
    {
     "data": {
      "text/plain": [
       "'   1.237'"
      ]
     },
     "execution_count": 31,
     "metadata": {},
     "output_type": "execute_result"
    }
   ],
   "source": [
    "# 포맷코드로 소수점 \n",
    "# '.'의 의미는 소수점 포인트, 그 뒤의 숫자 3은 소수점 뒤에 나올 숫자의 개수\n",
    "\n",
    "\"%0.3f\" % 1.23654\n",
    "\n",
    "#전체 글자에서 10글자 차지, 소수점 3자리\n",
    "\"%10.3f\" % 1.23654"
   ]
  },
  {
   "cell_type": "code",
   "execution_count": 32,
   "metadata": {},
   "outputs": [
    {
     "data": {
      "text/plain": [
       "'I eat 3 apples'"
      ]
     },
     "execution_count": 32,
     "metadata": {},
     "output_type": "execute_result"
    }
   ],
   "source": [
    "# 포맷함수로 숫자 바로 대입 (대괄호 사용)\n",
    "# 포맷함수로 2개 이상 값 넣기는 따로 연습 / f 문자열 포매팅보다 더 많이 사용\n",
    "\"I eat {0} apples\" .format(3)"
   ]
  }
 ],
 "metadata": {
  "kernelspec": {
   "display_name": "Python 3",
   "language": "python",
   "name": "python3"
  },
  "language_info": {
   "codemirror_mode": {
    "name": "ipython",
    "version": 3
   },
   "file_extension": ".py",
   "mimetype": "text/x-python",
   "name": "python",
   "nbconvert_exporter": "python",
   "pygments_lexer": "ipython3",
   "version": "3.11.2"
  },
  "orig_nbformat": 4
 },
 "nbformat": 4,
 "nbformat_minor": 2
}
