{
 "cells": [
  {
   "cell_type": "code",
   "execution_count": 3,
   "metadata": {},
   "outputs": [
    {
     "name": "stdout",
     "output_type": "stream",
     "text": [
      "80\n",
      "65\n"
     ]
    }
   ],
   "source": [
    "# 1. 김그린의 과목별 점수가 아래와 같을 때 평균을 계산하시오.\n",
    "# 국어 : 80 / 영어 : 65 / 수학 : 55\n",
    "\n",
    "a = (80 + 65 + 55)\n",
    "b = 3\n",
    "a / b\n",
    "\n",
    "a=80\n",
    "b=65\n",
    "c=55\n",
    "(a+b+c)/3\n",
    "\n",
    "print(a)\n",
    "print(b)"
   ]
  },
  {
   "cell_type": "code",
   "execution_count": 6,
   "metadata": {},
   "outputs": [
    {
     "name": "stdout",
     "output_type": "stream",
     "text": [
      "881120\n",
      "1025639\n"
     ]
    }
   ],
   "source": [
    "# 2. 김그린의 주민등록번호는 881120-1025639이다.\n",
    "# 김그린의 주민등록번호를 연월일 부분과 그 뒤의 숫자 부분으로 나누어서 출력하시오.\n",
    "\n",
    "pin = \"881120-1025639\"\n",
    "yymmdd = pin[:6]\n",
    "num = pin[7:]\n",
    "\n",
    "print(yymmdd)\n",
    "print(num)"
   ]
  },
  {
   "cell_type": "code",
   "execution_count": 8,
   "metadata": {},
   "outputs": [
    {
     "name": "stdout",
     "output_type": "stream",
     "text": [
      "a#b#c#d\n"
     ]
    }
   ],
   "source": [
    "# 3. 아래의 문자열의 : 을 #으로 변경하여 출력하시오.\n",
    "\n",
    "a = \"a:b:c:d\"\n",
    "b = a.replace(\":\", \"#\")\n",
    "print(b)"
   ]
  },
  {
   "cell_type": "code",
   "execution_count": 9,
   "metadata": {},
   "outputs": [
    {
     "data": {
      "text/plain": [
       "[5, 4, 3, 2, 1]"
      ]
     },
     "execution_count": 9,
     "metadata": {},
     "output_type": "execute_result"
    }
   ],
   "source": [
    "# 4. [1,5,3,4,2]라는 리스트를 내림차순 정렬하여 출력하시오.\n",
    "\n",
    "a = [1,5,3,4,2]\n",
    "a.sort()\n",
    "a.reverse()\n",
    "a"
   ]
  },
  {
   "cell_type": "code",
   "execution_count": 16,
   "metadata": {},
   "outputs": [
    {
     "name": "stdout",
     "output_type": "stream",
     "text": [
      "L i f e i s t o o s h o r t\n",
      "Life is too short\n"
     ]
    }
   ],
   "source": [
    "# 5. ['Life', 'is', 'too', 'short'] 라는 리스트를 \n",
    "# Life is too short 라는 문자열로 만들어 출력하시오.\n",
    "\n",
    "a=\"Life\"\n",
    "b=\"is\"\n",
    "c=\"too\"\n",
    "d=\"short\"\n",
    "e=a+b+c+d\n",
    "result = \" \".join(e)\n",
    "print(result)\n",
    "\n",
    "a=['Life', 'is', 'too', 'short']\n",
    "result = \" \".join(a)\n",
    "print(result)"
   ]
  },
  {
   "cell_type": "code",
   "execution_count": 18,
   "metadata": {},
   "outputs": [
    {
     "name": "stdout",
     "output_type": "stream",
     "text": [
      "80\n",
      "{'A': 90, 'C': 70}\n"
     ]
    }
   ],
   "source": [
    "# 6. 딕셔너리 a에서 'B'에 해당되는 값을 추출하고 삭제하시오. \n",
    "# a = {'A' : 90, 'B' : 80, 'C' : 70}\n",
    "\n",
    "a = {'A' : 90, 'B' : 80, 'C' : 70}\n",
    "result = a.pop('B')\n",
    "print(result)\n",
    "print(a)"
   ]
  },
  {
   "cell_type": "code",
   "execution_count": 21,
   "metadata": {},
   "outputs": [
    {
     "name": "stdout",
     "output_type": "stream",
     "text": [
      "[1, 2, 3, 4, 5]\n"
     ]
    }
   ],
   "source": [
    "# 7. a리스트에서 중복된 숫자들을 제거하여 출력하시오.\n",
    "# set은 순서를 반영하지 않음 \n",
    "# 따라서 순서 정렬을 위해 list로 다시 변환 필요\n",
    "\n",
    "a=[1,1,1,2,2,3,3,3,4,4,5]\n",
    "aSet = set(a)\n",
    "aList = list(aSet)\n",
    "print(aList)"
   ]
  }
 ],
 "metadata": {
  "kernelspec": {
   "display_name": "Python 3",
   "language": "python",
   "name": "python3"
  },
  "language_info": {
   "codemirror_mode": {
    "name": "ipython",
    "version": 3
   },
   "file_extension": ".py",
   "mimetype": "text/x-python",
   "name": "python",
   "nbconvert_exporter": "python",
   "pygments_lexer": "ipython3",
   "version": "3.11.2"
  },
  "orig_nbformat": 4
 },
 "nbformat": 4,
 "nbformat_minor": 2
}
