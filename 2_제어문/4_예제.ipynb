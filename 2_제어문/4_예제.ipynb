{
 "cells": [
  {
   "cell_type": "code",
   "execution_count": 2,
   "metadata": {},
   "outputs": [
    {
     "name": "stdout",
     "output_type": "stream",
     "text": [
      "166833\n"
     ]
    }
   ],
   "source": [
    "# 1. while문을 이용하여 1부터 1000까지의 자연수 중 3의 배수의 합계를 구하시오.\n",
    "\n",
    "result = 0 # result : 합계를 담아둘 변수\n",
    "i = 1\n",
    "while i <= 1000:\n",
    "    if i %3 ==0:\n",
    "        result = result + i \n",
    "    i=i+1\n",
    "    \n",
    "print(result)"
   ]
  },
  {
   "cell_type": "code",
   "execution_count": 5,
   "metadata": {},
   "outputs": [
    {
     "name": "stdout",
     "output_type": "stream",
     "text": [
      "63.6\n"
     ]
    }
   ],
   "source": [
    "# for문을 사용하여 아래 리스트의 평균 점수를 계산하시오.\n",
    "\n",
    "A=[70,85,96,35,68,52,36,94,25,75]\n",
    "\n",
    "total=0\n",
    "for score in A:\n",
    "    total = total + score\n",
    "avg = total / len(A)\n",
    "print(avg)"
   ]
  },
  {
   "cell_type": "code",
   "execution_count": 6,
   "metadata": {},
   "outputs": [
    {
     "name": "stdout",
     "output_type": "stream",
     "text": [
      "[2, 6, 10]\n"
     ]
    }
   ],
   "source": [
    "# 아래의 리스트에서 홀수에만 2를 곱하여 출력하시오.\n",
    "\n",
    "num = [1,2,3,4,5]\n",
    "result = [Num*2 for Num in num if Num%2==1]\n",
    "print (result)\n"
   ]
  },
  {
   "cell_type": "code",
   "execution_count": 7,
   "metadata": {},
   "outputs": [
    {
     "name": "stdout",
     "output_type": "stream",
     "text": [
      "[2, 6, 10]\n"
     ]
    }
   ],
   "source": [
    "# 방법1\n",
    "\n",
    "num = [1,2,3,4,5]\n",
    "result = []\n",
    "\n",
    "for n in num:\n",
    "    if n %2 ==1:\n",
    "        result.append(n*2) \n",
    "\n",
    "print(result)"
   ]
  },
  {
   "cell_type": "code",
   "execution_count": 8,
   "metadata": {},
   "outputs": [
    {
     "name": "stdout",
     "output_type": "stream",
     "text": [
      "[2, 6, 10]\n"
     ]
    }
   ],
   "source": [
    "# 방법 2\n",
    "\n",
    "num = [1,2,3,4,5]\n",
    "\n",
    "result = [n*2 for n in num if n%2==1]\n",
    "print(result)"
   ]
  },
  {
   "cell_type": "code",
   "execution_count": 10,
   "metadata": {},
   "outputs": [
    {
     "name": "stdout",
     "output_type": "stream",
     "text": [
      "1\n",
      "2\n",
      "4\n",
      "5\n",
      "7\n",
      "8\n",
      "10\n"
     ]
    }
   ],
   "source": [
    "# continue 연습\n",
    "# 1부터 10까지 숫자 중에서 3의 배수를 제외하고 출력\n",
    "\n",
    "a=0\n",
    "while a<10:\n",
    "    a=a+1\n",
    "    if a%3==0: continue # 필요조건이 1개뿐이면 컨티뉴 줄바꿈하지 않고 붙여쓰기도 가능 \n",
    "    print(a)"
   ]
  }
 ],
 "metadata": {
  "kernelspec": {
   "display_name": "Python 3",
   "language": "python",
   "name": "python3"
  },
  "language_info": {
   "codemirror_mode": {
    "name": "ipython",
    "version": 3
   },
   "file_extension": ".py",
   "mimetype": "text/x-python",
   "name": "python",
   "nbconvert_exporter": "python",
   "pygments_lexer": "ipython3",
   "version": "3.11.2"
  },
  "orig_nbformat": 4
 },
 "nbformat": 4,
 "nbformat_minor": 2
}
