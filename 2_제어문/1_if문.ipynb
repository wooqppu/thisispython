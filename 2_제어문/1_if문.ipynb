{
 "cells": [
  {
   "cell_type": "code",
   "execution_count": 3,
   "metadata": {},
   "outputs": [
    {
     "name": "stdout",
     "output_type": "stream",
     "text": [
      "택시를\n",
      "타고\n",
      "가요\n"
     ]
    }
   ],
   "source": [
    "# 조건문 형태 \n",
    "# if + 조건문: # 들여쓰기[공백(스페이스) 4칸] 후 수행문장\n",
    "# 에디터에 따라 자동으로 들여쓰기 가능\n",
    "# if 조건문은 무조건 True 아니면 False\n",
    "# 조건문 다음에 콜론(:)을 잊지 말자!\n",
    "\n",
    "money = 5000\n",
    "if money>=1000:\n",
    "    print(\"택시를\")\n",
    "    print(\"타고\")\n",
    "    print(\"가요\")\n",
    "else:\n",
    "    print(\"걸어가요\")\n"
   ]
  },
  {
   "cell_type": "code",
   "execution_count": 4,
   "metadata": {},
   "outputs": [
    {
     "name": "stdout",
     "output_type": "stream",
     "text": [
      "택시를 타고 가라\n"
     ]
    }
   ],
   "source": [
    "# elif는 이전 조건문이 거짓일 때 수행, 조건문 갯수에 제한 없음\n",
    "# 여러 조건이 True일 때는, 앞선 조건문의 결과를 나타냄 \n",
    "\n",
    "# 주머니에 돈이 있으면 택시를 타고, \n",
    "# 주머니에 돈은 없지만, 카드가 있으면 택시를 타고, \n",
    "# 돈도 없고 카드도 없으면 걸어가라 \n",
    "\n",
    "pocket = ['paper', 'cellphone']\n",
    "card = True\n",
    "\n",
    "if 'money' in pocket:\n",
    "    print(\"택시를 타고 가라\")\n",
    "else:\n",
    "    if card:\n",
    "        print(\"택시를 타고 가라\")\n",
    "    else:\n",
    "        print(\"걸어가라\")"
   ]
  },
  {
   "cell_type": "code",
   "execution_count": 7,
   "metadata": {},
   "outputs": [
    {
     "name": "stdout",
     "output_type": "stream",
     "text": [
      "아빠한테 전화를 해라\n"
     ]
    }
   ],
   "source": [
    "# 주머니에 돈이 있으면 버스를 타고, \n",
    "# 주머니에 돈은 없지만, 카드가 있으면 택시를 타고, \n",
    "# 주머니에 cellphone이 있으면 아빠에게 전화를 하고,\n",
    "# 돈도 없고 카드도 없으면 걸어가라 \n",
    "\n",
    "pocket = ['paper', 'cellphone']\n",
    "card = False\n",
    "\n",
    "if 'money' in pocket:\n",
    "    print(\"버스를 타고 가라\")\n",
    "elif card: \n",
    "    print(\"택시를 타고 가라\")\n",
    "elif 'cellphone' in pocket:\n",
    "    print(\"아빠한테 전화를 해라\")\n",
    "else:\n",
    "    print(\"걸어가라\")"
   ]
  },
  {
   "cell_type": "code",
   "execution_count": 9,
   "metadata": {},
   "outputs": [
    {
     "data": {
      "text/plain": [
       "True"
      ]
     },
     "execution_count": 9,
     "metadata": {},
     "output_type": "execute_result"
    }
   ],
   "source": [
    "# != : 같지 않다\n",
    "\n",
    "a=10\n",
    "b=20\n",
    "\n",
    "a!=b"
   ]
  },
  {
   "cell_type": "code",
   "execution_count": 18,
   "metadata": {},
   "outputs": [
    {
     "name": "stdout",
     "output_type": "stream",
     "text": [
      "주류 판매 가능\n"
     ]
    }
   ],
   "source": [
    "# and : 전부 다 참 \n",
    "# or : 둘 중 하나만 참이어도 참 (and, or은 조건이 반드시 2개 이상)\n",
    "# not : x가 거짓이면 참이다 \n",
    "# 조건 여러개면 각각 쓰기, andornot 앞뒤로 띄워주기 \n",
    "\n",
    "# 나이가 20~40세이면 주류 판매 가능 \n",
    "# 0~20세이면 주류 판매 불가능 \n",
    "# 나머지는 '나이를 잘못 입력했습니다.' 출력 \n",
    "\n",
    "age = 30\n",
    "\n",
    "if (age>=20 and age<=40):  \n",
    "    print(\"주류 판매 가능\")\n",
    "elif (age>0 and age<20):\n",
    "    print(\"주류 판매 불가능\")\n",
    "else:\n",
    "    print(\"나이를 잘못 입력했습니다\") \n"
   ]
  },
  {
   "cell_type": "code",
   "execution_count": 20,
   "metadata": {},
   "outputs": [
    {
     "name": "stdout",
     "output_type": "stream",
     "text": [
      "나이를 잘못 입력했습니다\n"
     ]
    }
   ],
   "source": [
    "# 나이가 30세 미만 이거나 50세 이상이면 주류 판매 가능 \n",
    "# 0~20세이면 주류 판매 불가능 \n",
    "# 나머지는 '나이를 잘못 입력했습니다.' 출력 \n",
    "\n",
    "age = 40\n",
    "\n",
    "if (age<30 or age>=50):  \n",
    "    print(\"주류 판매 가능\")\n",
    "else:\n",
    "    print(\"나이를 잘못 입력했습니다\") "
   ]
  },
  {
   "cell_type": "code",
   "execution_count": 6,
   "metadata": {},
   "outputs": [
    {
     "name": "stdout",
     "output_type": "stream",
     "text": [
      "봄\n"
     ]
    }
   ],
   "source": [
    "# month에 입력된 월을 이용하여 현재 계절을 출력하시오.\n",
    "# 3~5월은 봄, 6~8월은 여름, 9~11월은 가을, 12,1,2월은 겨울 \n",
    "\n",
    "month = 3\n",
    "\n",
    "if (3<= month <=5): # and,or 대신에 부등호 2개로 쓰는건 파이썬만 가능 \n",
    "    print(\"봄\")\n",
    "elif (month>=6 and month<=8):\n",
    "    print(\"여름\")\n",
    "elif (month>=9 and month<=11):\n",
    "    print(\"가을\")\n",
    "else:\n",
    "    print(\"겨울\")"
   ]
  },
  {
   "cell_type": "code",
   "execution_count": null,
   "metadata": {},
   "outputs": [],
   "source": [
    "# if문에서 pass : 아직 코드를 결정하지 않았다는 의미 (파이썬에서만 사용)\n",
    "\n",
    "num = 100\n",
    "\n",
    "if num > 0:\n",
    "    pass\n",
    "else:\n",
    "    pass"
   ]
  },
  {
   "cell_type": "code",
   "execution_count": 7,
   "metadata": {},
   "outputs": [
    {
     "name": "stdout",
     "output_type": "stream",
     "text": [
      "홀수\n"
     ]
    }
   ],
   "source": [
    "# num이 짝수인지 홀수인지 나타내시오.\n",
    "\n",
    "num = 123\n",
    "\n",
    "if num %2 ==0:\n",
    "    print(\"짝수\")\n",
    "else:\n",
    "    print(\"홀수\")"
   ]
  }
 ],
 "metadata": {
  "kernelspec": {
   "display_name": "Python 3",
   "language": "python",
   "name": "python3"
  },
  "language_info": {
   "codemirror_mode": {
    "name": "ipython",
    "version": 3
   },
   "file_extension": ".py",
   "mimetype": "text/x-python",
   "name": "python",
   "nbconvert_exporter": "python",
   "pygments_lexer": "ipython3",
   "version": "3.11.2"
  },
  "orig_nbformat": 4
 },
 "nbformat": 4,
 "nbformat_minor": 2
}
