{
 "cells": [
  {
   "cell_type": "code",
   "execution_count": 1,
   "metadata": {},
   "outputs": [
    {
     "name": "stdout",
     "output_type": "stream",
     "text": [
      "0 번째 반복\n",
      "1 번째 반복\n",
      "2 번째 반복\n",
      "3 번째 반복\n"
     ]
    }
   ],
   "source": [
    "# 반복문 (while, for) : 반복 동작을 자동으로 한 번에 돌려줌\n",
    "# while문은 조건문이 참인 동안에 while문에 속한 문장들이 반복해서 수행\n",
    "# while문 1.조건에 만족하는 동안 실행 2.빠져나갈 식(증감식->중요)이 필요\n",
    "\n",
    "num = 0\n",
    "while (num <=3):\n",
    "    print (num, \"번째 반복\")\n",
    "    num = num+1\n"
   ]
  },
  {
   "cell_type": "code",
   "execution_count": 6,
   "metadata": {},
   "outputs": [
    {
     "name": "stdout",
     "output_type": "stream",
     "text": [
      "1\n",
      "3\n",
      "5\n",
      "7\n",
      "9\n"
     ]
    }
   ],
   "source": [
    "# 1~10까지 중에서 홀수만 출력 \n",
    "num = 1\n",
    "\n",
    "# 방법1\n",
    "while (num<=10):\n",
    "    if num %2 ==1:\n",
    "        print(num)\n",
    "    \n",
    "    num = num+1 # 들여쓰기 주의(if에 포함되면 홀수일 때만 숫자1 증가->무한반복)\n",
    "\n",
    "# 방법2\n",
    "while (num<=10):\n",
    "    print(num)\n",
    "    num = num+2"
   ]
  },
  {
   "cell_type": "code",
   "execution_count": 7,
   "metadata": {},
   "outputs": [
    {
     "name": "stdout",
     "output_type": "stream",
     "text": [
      "0\n",
      "1\n",
      "2\n",
      "3\n",
      "4\n"
     ]
    }
   ],
   "source": [
    "# while문 강제로 빠져나가기 : break문\n",
    "# 반복횟수가 정해져있지 않을 때(ex-사용자에게 횟수를 맡길 때) \n",
    "# 강제로 종료하기 위해 break를 사용 \n",
    "\n",
    "num = 0 \n",
    "while (num<=100):\n",
    "    print(num) # 5까지 화면에 나타내려면 위아래 코드 순서 바꾸기\n",
    "    num = num+1  # 코드 순서에 따라서 나타내는 값이 달라짐 \n",
    "\n",
    "    if (num == 5): \n",
    "        break"
   ]
  },
  {
   "cell_type": "code",
   "execution_count": null,
   "metadata": {},
   "outputs": [],
   "source": [
    "# 예제\n",
    "\n",
    "coffee = 10\n",
    "money = 300\n",
    "\n",
    "while money:\n",
    "    print(\"돈을 받았으니 커피를 줍니다.\")\n",
    "    coffee = coffee - 1\n",
    "    print(\"남은 커피의 양은 %d개입니다.\" % coffee)\n",
    "\n",
    "    if coffee == 0:\n",
    "        print(\"커피가 다 떨어졌습니다. 판매를 중지 합니다.\")\n",
    "        break"
   ]
  },
  {
   "cell_type": "code",
   "execution_count": 10,
   "metadata": {},
   "outputs": [
    {
     "name": "stdout",
     "output_type": "stream",
     "text": [
      "<class 'str'>\n"
     ]
    }
   ],
   "source": [
    "# input : 사용자로부터 값을 입력받는 것 \n",
    "# input은 값을 무조건 문자열로 출력 \n",
    "\n",
    "number = input(\"숫자를 입력하세요 > \")\n",
    "print(type(number)) "
   ]
  },
  {
   "cell_type": "code",
   "execution_count": 18,
   "metadata": {},
   "outputs": [
    {
     "name": "stdout",
     "output_type": "stream",
     "text": [
      "돈을 받았으니 커피를 줍니다.\n",
      "남은 커피의 양은 9개입니다.\n",
      "현재 잔액은  47000 원입니다.\n",
      "돈을 받았으니 커피를 줍니다.\n",
      "남은 커피의 양은 8개입니다.\n",
      "현재 잔액은  44000 원입니다.\n",
      "돈을 받았으니 커피를 줍니다.\n",
      "남은 커피의 양은 7개입니다.\n",
      "현재 잔액은  41000 원입니다.\n",
      "돈을 받았으니 커피를 줍니다.\n",
      "남은 커피의 양은 6개입니다.\n",
      "현재 잔액은  38000 원입니다.\n",
      "돈을 받았으니 커피를 줍니다.\n",
      "남은 커피의 양은 5개입니다.\n",
      "현재 잔액은  35000 원입니다.\n",
      "돈을 받았으니 커피를 줍니다.\n",
      "남은 커피의 양은 4개입니다.\n",
      "현재 잔액은  32000 원입니다.\n",
      "돈을 받았으니 커피를 줍니다.\n",
      "남은 커피의 양은 3개입니다.\n",
      "현재 잔액은  29000 원입니다.\n",
      "돈을 받았으니 커피를 줍니다.\n",
      "남은 커피의 양은 2개입니다.\n",
      "현재 잔액은  26000 원입니다.\n",
      "돈을 받았으니 커피를 줍니다.\n",
      "남은 커피의 양은 1개입니다.\n",
      "현재 잔액은  23000 원입니다.\n",
      "돈을 받았으니 커피를 줍니다.\n",
      "남은 커피의 양은 0개입니다.\n",
      "현재 잔액은  20000 원입니다.\n",
      "커피가 떨어졌습니다. 판매를 중지합니다\n"
     ]
    }
   ],
   "source": [
    "# 커피값인 3000보다 잔액이 작아지거나 재고가 떨어지면 커피 판매 중지 \n",
    "\n",
    "coffee = 10\n",
    "money = int(input(\"금액입력\"))\n",
    "\n",
    "while money:\n",
    "    print(\"돈을 받았으니 커피를 줍니다.\")\n",
    "    money = money - 3000\n",
    "    coffee = coffee - 1\n",
    "    print(\"남은 커피의 양은 %d개입니다.\" % coffee)\n",
    "    print(\"현재 잔액은 \", money, \"원입니다.\")\n",
    "\n",
    "    if (money <3000):\n",
    "        print(\"잔액이 부족합니다. 판매를 중지합니다.\")\n",
    "        break\n",
    "    elif (coffee ==0):\n",
    "        print(\"커피가 떨어졌습니다. 판매를 중지합니다\")\n",
    "        break"
   ]
  },
  {
   "cell_type": "code",
   "execution_count": 19,
   "metadata": {},
   "outputs": [
    {
     "name": "stdout",
     "output_type": "stream",
     "text": [
      "1\n",
      "출력!\n",
      "2\n",
      "출력!\n",
      "3\n",
      "출력!\n",
      "4\n",
      "출력!\n",
      "5\n",
      "6\n",
      "출력!\n",
      "7\n",
      "출력!\n",
      "8\n",
      "출력!\n",
      "9\n",
      "출력!\n",
      "10\n",
      "출력!\n",
      "11\n",
      "출력!\n"
     ]
    }
   ],
   "source": [
    "# continue : while문을 빠져나가지 않고 \n",
    "# while문의 맨 처음(조건문)으로 다시 돌아가게 만들고 싶은 경우에 사용\n",
    "\n",
    "num=0\n",
    "while (num<=10):\n",
    "    num = num +1\n",
    "    print(num)\n",
    "\n",
    "    if num ==5:\n",
    "        continue #5일 때 밑의 조건은 건너뛰고 처음 while문으로 되돌아감\n",
    "    \n",
    "    print(\"출력!\")"
   ]
  },
  {
   "cell_type": "code",
   "execution_count": 20,
   "metadata": {},
   "outputs": [
    {
     "name": "stdout",
     "output_type": "stream",
     "text": [
      "1\n",
      "3\n",
      "5\n",
      "7\n",
      "9\n"
     ]
    }
   ],
   "source": [
    "# 1부터 10까지의 숫자 중에서 홀수만 출력하는 것을 while문으로 작성\n",
    "\n",
    "a = 0\n",
    "while a < 10:\n",
    "    a = a + 1\n",
    "\n",
    "    if a % 2 == 0: \n",
    "        continue\n",
    "    \n",
    "    print(a)"
   ]
  }
 ],
 "metadata": {
  "kernelspec": {
   "display_name": "Python 3",
   "language": "python",
   "name": "python3"
  },
  "language_info": {
   "codemirror_mode": {
    "name": "ipython",
    "version": 3
   },
   "file_extension": ".py",
   "mimetype": "text/x-python",
   "name": "python",
   "nbconvert_exporter": "python",
   "pygments_lexer": "ipython3",
   "version": "3.11.2"
  },
  "orig_nbformat": 4
 },
 "nbformat": 4,
 "nbformat_minor": 2
}
