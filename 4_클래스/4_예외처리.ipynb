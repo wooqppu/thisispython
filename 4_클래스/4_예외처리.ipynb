{
 "cells": [
  {
   "cell_type": "code",
   "execution_count": null,
   "metadata": {},
   "outputs": [],
   "source": [
    "# 오류 : 프로그램 코드에 의해서 수습이 될 수 없는 심각한 오류 \n",
    "# 예외 : 프로그램 코드에 의해서 수습이 될 수 있는 다소 미약한 오류\n",
    "# 오류, 예외 통틀어서 error라고 함"
   ]
  },
  {
   "cell_type": "code",
   "execution_count": 10,
   "metadata": {},
   "outputs": [
    {
     "name": "stdout",
     "output_type": "stream",
     "text": [
      "배열 인덱스를 벗어났습니다.\n",
      "c\n"
     ]
    }
   ],
   "source": [
    "# 예외처리는 try, except 구문 사용\n",
    "# finally는 예외 발생 여부에 상관없이 항상 수행 \n",
    "# -> 사용한 리소스를 close할 때 많이 사용 \n",
    " \n",
    "try: \n",
    "    4 / 1\n",
    "    a = [1,2,3]\n",
    "    a[5]\n",
    "    print(\"a\")\n",
    "except ZeroDivisionError as e:\n",
    "    print(\"숫자를 0으로 나눌 수 없습니다.\")\n",
    "    print(\"b\")\n",
    "except IndexError:\n",
    "    print(\"배열 인덱스를 벗어났습니다.\")\n",
    "finally:\n",
    "    print(\"c\")"
   ]
  },
  {
   "cell_type": "code",
   "execution_count": 15,
   "metadata": {},
   "outputs": [
    {
     "name": "stdout",
     "output_type": "stream",
     "text": [
      "환영합니다!\n"
     ]
    }
   ],
   "source": [
    "try:\n",
    "    age = int(input(\"나이 : \"))\n",
    "except:\n",
    "    print(\"입력값을 다시 확인하세요.\")\n",
    "else:\n",
    "    if age <=18:\n",
    "        print(\"미성년자입니다.\")\n",
    "    else:\n",
    "        print(\"환영합니다!\")"
   ]
  },
  {
   "cell_type": "code",
   "execution_count": 17,
   "metadata": {},
   "outputs": [
    {
     "name": "stdout",
     "output_type": "stream",
     "text": [
      "원의 반지름 :  5\n",
      "원의 둘레 :  31.400000000000002\n",
      "원의 넓이 :  78.5\n"
     ]
    }
   ],
   "source": [
    "# 사용자에게 원의 반지름을 정수로 입력받아\n",
    "# 원의 둘레(2 * 3.14 * 반지름)와 원의 넓이(3.14 * 반지름 * 반지름)을\n",
    "# 계산하여 나타내고, 숫자가 아닌 값을 입력했을 때에는 \n",
    "# 오류 메세지를 출력하시오.\n",
    "\n",
    "try:\n",
    "    a = int(input(\"원의 반지름 입력 > \"))\n",
    "\n",
    "    print(\"원의 반지름 : \", a)\n",
    "    print(\"원의 둘레 : \", 2*a*3.14)\n",
    "    print(\"원의 넓이 : \", 3.14*a*a)\n",
    "\n",
    "except:\n",
    "    print(\"잘못된 값을 입력하였습니다.\")"
   ]
  },
  {
   "cell_type": "code",
   "execution_count": 21,
   "metadata": {},
   "outputs": [
    {
     "name": "stdout",
     "output_type": "stream",
     "text": [
      "['52', '234', '11', '스파이', '505'] 중에서 숫자는 ['52', '234', '11', '505']\n"
     ]
    }
   ],
   "source": [
    "list_input = [\"52\", \"234\", \"11\", \"스파이\", \"505\"]\n",
    "\n",
    "list_number = []\n",
    "\n",
    "for item in list_input:\n",
    "    try:    \n",
    "        float(item)\n",
    "        list_number.append(item)\n",
    "    except:\n",
    "        pass\n",
    "\n",
    "print(list_input, \"중에서 숫자는\", list_number)"
   ]
  },
  {
   "cell_type": "code",
   "execution_count": null,
   "metadata": {},
   "outputs": [],
   "source": [
    "# try 활용 가능한 구문 5가지 (try만 단독으로 사용 불가능)\n",
    "# try + except\n",
    "# try + except + else\n",
    "# try + except + finally\n",
    "# try + except + else + finally\n",
    "# try + finally"
   ]
  },
  {
   "cell_type": "code",
   "execution_count": null,
   "metadata": {},
   "outputs": [],
   "source": [
    "# raise : 일부러 예외를 발생시킴\n",
    "number = input(\"정수 입력\")\n",
    "number = int(number)\n",
    "\n",
    "if number > 0 :\n",
    "    raise NotImplementedError # 아직 코드 구현되지 않아서 일부러 오류를 발생\n",
    "else :\n",
    "    raise NotImplementedError"
   ]
  },
  {
   "cell_type": "code",
   "execution_count": null,
   "metadata": {},
   "outputs": [],
   "source": []
  }
 ],
 "metadata": {
  "kernelspec": {
   "display_name": "Python 3",
   "language": "python",
   "name": "python3"
  },
  "language_info": {
   "codemirror_mode": {
    "name": "ipython",
    "version": 3
   },
   "file_extension": ".py",
   "mimetype": "text/x-python",
   "name": "python",
   "nbconvert_exporter": "python",
   "pygments_lexer": "ipython3",
   "version": "3.11.2"
  },
  "orig_nbformat": 4
 },
 "nbformat": 4,
 "nbformat_minor": 2
}
