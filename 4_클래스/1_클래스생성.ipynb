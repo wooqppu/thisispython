{
 "cells": [
  {
   "cell_type": "code",
   "execution_count": null,
   "metadata": {},
   "outputs": [],
   "source": [
    "# 절차지향 언어 : C언어 / 객체지향 언어 : 자바, 파이썬, C++\n",
    "# 객체 : 설계도, 틀 \n",
    "# 클래스를 이용해서 틀(객체)을 만들면 언제든지 사용 가능\n",
    "# 클래스를 이용해서 틀을 만드는 과정 -> 객체 생성\n",
    "# 틀을 이용해서 내용물(결과물)을 만드는 것 -> 인스턴스 "
   ]
  },
  {
   "cell_type": "code",
   "execution_count": null,
   "metadata": {},
   "outputs": [],
   "source": [
    "a= FourCal() # fourcal이라는 클래스를 이용하여 a라는 인스턴스 생성 \n",
    "a.setdata(4,2) # 값을 설정\n",
    "print(a.add()) # 두 수의 합계를 출력"
   ]
  },
  {
   "cell_type": "code",
   "execution_count": 21,
   "metadata": {},
   "outputs": [],
   "source": [
    "class FourCal : \n",
    "    # 생성자 : 객체가 생성되는 시점에 자동으로 호출\n",
    "    # 생성자(초기화 메서드) : 값을 초기화시키기 위해 사용\n",
    "    def __init__(self, first, second):\n",
    "        self.first = first\n",
    "        self.second = second\n",
    "\n",
    "\n",
    "    # 클래스 내부에 존재하는 함수 -> 메서드 \n",
    "    def setdata(self, first, second): # self는 나 자신 -> a, first = 4, second = 2\n",
    "        self.first = first  # a.first = 4, a.second = 2\n",
    "        self.second = second \n",
    "\n",
    "\n",
    "    def add(self):\n",
    "        result = self.first + self.second\n",
    "        return result\n",
    "    \n",
    "    \n",
    "    def sub(self):\n",
    "        result = self.first - self.second\n",
    "        return result\n",
    "    \n",
    "    def mul(self):\n",
    "        result = self.first * self.second\n",
    "        return result\n",
    "    \n",
    "    def div(self):\n",
    "        result = self.first / self.second\n",
    "        return result\n"
   ]
  },
  {
   "cell_type": "code",
   "execution_count": 22,
   "metadata": {},
   "outputs": [
    {
     "name": "stdout",
     "output_type": "stream",
     "text": [
      "6\n",
      "8\n",
      "2.0\n"
     ]
    }
   ],
   "source": [
    "a = FourCal(4,2)\n",
    "#a.setdata(4,2)\n",
    "print(a.add())\n",
    "print(a.mul())\n",
    "print(a.div())"
   ]
  },
  {
   "cell_type": "code",
   "execution_count": 25,
   "metadata": {},
   "outputs": [
    {
     "name": "stdout",
     "output_type": "stream",
     "text": [
      "4\n",
      "2\n"
     ]
    },
    {
     "data": {
      "text/plain": [
       "2.0"
      ]
     },
     "execution_count": 25,
     "metadata": {},
     "output_type": "execute_result"
    }
   ],
   "source": [
    "b=FourCal(4,2)\n",
    "print(b.first)\n",
    "print(b.second)\n",
    "\n",
    "b.add()\n",
    "b.div()"
   ]
  },
  {
   "cell_type": "code",
   "execution_count": 8,
   "metadata": {},
   "outputs": [],
   "source": [
    "class Fun:\n",
    "    def func1():\n",
    "        print(\"function1\")\n",
    "    \n",
    "    def func2(self): # 메서드 만들 때는 self를 사용\n",
    "        print(\"function2\")"
   ]
  },
  {
   "cell_type": "code",
   "execution_count": 9,
   "metadata": {},
   "outputs": [
    {
     "name": "stdout",
     "output_type": "stream",
     "text": [
      "function2\n"
     ]
    }
   ],
   "source": [
    "f=Fun()\n",
    "f.func2()"
   ]
  },
  {
   "cell_type": "code",
   "execution_count": 10,
   "metadata": {},
   "outputs": [
    {
     "name": "stdout",
     "output_type": "stream",
     "text": [
      "function1\n"
     ]
    }
   ],
   "source": [
    "# f=Fun() # self를 안넣으면 클래스 이름을 앞에 바로 써주면 메서드 사용 가능\n",
    "Fun.func1() "
   ]
  },
  {
   "cell_type": "code",
   "execution_count": 14,
   "metadata": {},
   "outputs": [
    {
     "name": "stdout",
     "output_type": "stream",
     "text": [
      "4\n",
      "3\n"
     ]
    }
   ],
   "source": [
    "x=FourCal()\n",
    "y=FourCal()\n",
    "\n",
    "x.setdata(4,2)\n",
    "print(x.first)\n",
    "\n",
    "y.setdata(3,7)\n",
    "print(y.first)"
   ]
  },
  {
   "cell_type": "code",
   "execution_count": 15,
   "metadata": {},
   "outputs": [],
   "source": [
    "class FourCal :\n",
    "    def add(self):\n",
    "        result = self.first + self.second\n",
    "        return result"
   ]
  },
  {
   "cell_type": "code",
   "execution_count": 28,
   "metadata": {},
   "outputs": [],
   "source": [
    "# 클래스 상속 : 괄호 안에 상속받고자 하는 부모 클래스 이름을 넣어줌 \n",
    "# 상속을 받으면 재사용성 높아짐 -> 코드 중복 제거, 코드 유지/보수 쉬워짐\n",
    "\n",
    "class MoreFourCal(FourCal) :\n",
    "    def pow(self):\n",
    "        result = self.first ** self.second\n",
    "        return result\n",
    "        "
   ]
  },
  {
   "cell_type": "code",
   "execution_count": 30,
   "metadata": {},
   "outputs": [
    {
     "data": {
      "text/plain": [
       "6"
      ]
     },
     "execution_count": 30,
     "metadata": {},
     "output_type": "execute_result"
    }
   ],
   "source": [
    "c = MoreFourCal(4,2) # 생성자 클래스의 기능 그대로 다 사용 가능 \n",
    "c.pow()\n",
    "c.add()"
   ]
  },
  {
   "cell_type": "code",
   "execution_count": 31,
   "metadata": {},
   "outputs": [
    {
     "data": {
      "text/plain": [
       "4.0"
      ]
     },
     "execution_count": 31,
     "metadata": {},
     "output_type": "execute_result"
    }
   ],
   "source": [
    "# 메서드 오버라이딩 \n",
    "# 숫자를 0으로 나누면 zerodivisionerror 발생\n",
    "\n",
    "a= FourCal(4,1)\n",
    "\n",
    "a.div()"
   ]
  },
  {
   "cell_type": "code",
   "execution_count": 34,
   "metadata": {},
   "outputs": [
    {
     "data": {
      "text/plain": [
       "0"
      ]
     },
     "execution_count": 34,
     "metadata": {},
     "output_type": "execute_result"
    }
   ],
   "source": [
    "class SafeFourCal(FourCal):\n",
    "    # 메서드 오버라이딩 : 부모 클래스의 메서드를 \"동일한 이름\"으로 재정의함 \n",
    "    def div(self):\n",
    "        if self.second == 0:\n",
    "            return 0\n",
    "        else:\n",
    "            return self.first / self.second\n",
    "\n",
    "d=SafeFourCal(4,0)\n",
    "d.div()"
   ]
  },
  {
   "cell_type": "code",
   "execution_count": 35,
   "metadata": {},
   "outputs": [],
   "source": [
    "# 클래스 변수 : 해당 클래스를 사용하는 모든 인스턴스가 같은 값을 사용\n",
    "# 클래스 변수는 클래스로 만든 모든 객체에 공유된다 \n",
    "\n",
    "class Family:\n",
    "    lastname=\"김\"\n"
   ]
  },
  {
   "cell_type": "code",
   "execution_count": 37,
   "metadata": {},
   "outputs": [
    {
     "name": "stdout",
     "output_type": "stream",
     "text": [
      "김\n"
     ]
    }
   ],
   "source": [
    "print(Family.lastname)"
   ]
  },
  {
   "cell_type": "code",
   "execution_count": 38,
   "metadata": {},
   "outputs": [
    {
     "name": "stdout",
     "output_type": "stream",
     "text": [
      "김\n",
      "김\n"
     ]
    }
   ],
   "source": [
    "a = Family()\n",
    "b = Family()\n",
    "\n",
    "print(a.lastname)\n",
    "print(b.lastname)"
   ]
  },
  {
   "cell_type": "code",
   "execution_count": 40,
   "metadata": {},
   "outputs": [
    {
     "name": "stdout",
     "output_type": "stream",
     "text": [
      "박\n",
      "박\n"
     ]
    }
   ],
   "source": [
    "Family.lastname = \"박\"\n",
    "\n",
    "print(a.lastname)\n",
    "print(b.lastname)"
   ]
  },
  {
   "cell_type": "code",
   "execution_count": 42,
   "metadata": {},
   "outputs": [
    {
     "name": "stdout",
     "output_type": "stream",
     "text": [
      "최\n",
      "박\n",
      "박\n"
     ]
    }
   ],
   "source": [
    "a.lastname = \"최\"\n",
    "print(a.lastname)\n",
    "print(b.lastname)\n",
    "print(Family.lastname)"
   ]
  }
 ],
 "metadata": {
  "kernelspec": {
   "display_name": "Python 3",
   "language": "python",
   "name": "python3"
  },
  "language_info": {
   "codemirror_mode": {
    "name": "ipython",
    "version": 3
   },
   "file_extension": ".py",
   "mimetype": "text/x-python",
   "name": "python",
   "nbconvert_exporter": "python",
   "pygments_lexer": "ipython3",
   "version": "3.11.2"
  },
  "orig_nbformat": 4
 },
 "nbformat": 4,
 "nbformat_minor": 2
}
