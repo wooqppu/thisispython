{
 "cells": [
  {
   "cell_type": "code",
   "execution_count": 10,
   "metadata": {},
   "outputs": [
    {
     "name": "stdout",
     "output_type": "stream",
     "text": [
      "홀수\n"
     ]
    }
   ],
   "source": [
    "# 입력된 자연수가 홀수인지 짝수인지 판별해주는 함수(is_odd)를 작성하시오\n",
    "# is_odd(3)\n",
    "# 홀수\n",
    "# is_odd(4)\n",
    "# 짝수\n",
    "\n",
    "def is_odd(number):\n",
    "   if number %2 == 1:\n",
    "     r = \"홀수\"\n",
    "   else:\n",
    "     r = \"짝수\"\n",
    "   return r\n",
    "\n",
    "result = is_odd(3)\n",
    "print(result)"
   ]
  },
  {
   "cell_type": "code",
   "execution_count": 6,
   "metadata": {},
   "outputs": [
    {
     "data": {
      "text/plain": [
       "'짝수'"
      ]
     },
     "execution_count": 6,
     "metadata": {},
     "output_type": "execute_result"
    }
   ],
   "source": [
    "is_odd = lambda x: \"홀수\" if x % 2 == 1 else \"짝수\"\n",
    "\n",
    "is_odd(4)"
   ]
  },
  {
   "cell_type": "code",
   "execution_count": 12,
   "metadata": {},
   "outputs": [
    {
     "data": {
      "text/plain": [
       "3.0"
      ]
     },
     "execution_count": 12,
     "metadata": {},
     "output_type": "execute_result"
    }
   ],
   "source": [
    "# 함수의 매개변수로 입력받은 모든 값의 평균을 계산해주는 함수를 작성하시오.\n",
    "\n",
    "def avg_numbers(*num):\n",
    "    result = 0\n",
    "    for i in num:\n",
    "        #result = result + i\n",
    "        result += i\n",
    "\n",
    "    return result / len(num)\n",
    "\n",
    "avg_numbers(1,2)\n",
    "\n",
    "avg_numbers(1,2,3,4,5)\n"
   ]
  },
  {
   "cell_type": "code",
   "execution_count": 14,
   "metadata": {},
   "outputs": [
    {
     "name": "stdout",
     "output_type": "stream",
     "text": [
      "두 수의 합은 :  68\n"
     ]
    }
   ],
   "source": [
    "input1 = input(\"첫 번째 숫자 : \")\n",
    "input2 = input(\"두 번째 숫자 : \")\n",
    "\n",
    "total = int(input1) + int(input2)\n",
    "\n",
    "print(\"두 수의 합은 : \", total)"
   ]
  }
 ],
 "metadata": {
  "kernelspec": {
   "display_name": "Python 3",
   "language": "python",
   "name": "python3"
  },
  "language_info": {
   "codemirror_mode": {
    "name": "ipython",
    "version": 3
   },
   "file_extension": ".py",
   "mimetype": "text/x-python",
   "name": "python",
   "nbconvert_exporter": "python",
   "pygments_lexer": "ipython3",
   "version": "3.11.2"
  },
  "orig_nbformat": 4
 },
 "nbformat": 4,
 "nbformat_minor": 2
}
